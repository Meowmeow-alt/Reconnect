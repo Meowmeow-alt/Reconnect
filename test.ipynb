{
 "cells": [
  {
   "cell_type": "markdown",
   "metadata": {},
   "source": [
    "### Todo: lay embedding hai tam hinh, tinh cosine similatiry giua embedding hai cai do"
   ]
  },
  {
   "cell_type": "code",
   "execution_count": 4,
   "metadata": {},
   "outputs": [
    {
     "name": "stderr",
     "output_type": "stream",
     "text": [
      "/opt/homebrew/Caskroom/miniforge/base/envs/reconnect/lib/python3.10/site-packages/onnxruntime/capi/onnxruntime_inference_collection.py:69: UserWarning: Specified provider 'CUDAExecutionProvider' is not in available provider names.Available providers: 'AzureExecutionProvider, CPUExecutionProvider'\n",
      "  warnings.warn(\n"
     ]
    },
    {
     "name": "stdout",
     "output_type": "stream",
     "text": [
      "Applied providers: ['CPUExecutionProvider'], with options: {'CPUExecutionProvider': {}}\n",
      "model ignore: /Users/jennifertran/.insightface/models/buffalo_l/1k3d68.onnx landmark_3d_68\n",
      "Applied providers: ['CPUExecutionProvider'], with options: {'CPUExecutionProvider': {}}\n",
      "model ignore: /Users/jennifertran/.insightface/models/buffalo_l/2d106det.onnx landmark_2d_106\n",
      "Applied providers: ['CPUExecutionProvider'], with options: {'CPUExecutionProvider': {}}\n",
      "find model: /Users/jennifertran/.insightface/models/buffalo_l/det_10g.onnx detection [1, 3, '?', '?'] 127.5 128.0\n",
      "Applied providers: ['CPUExecutionProvider'], with options: {'CPUExecutionProvider': {}}\n",
      "model ignore: /Users/jennifertran/.insightface/models/buffalo_l/genderage.onnx genderage\n",
      "Applied providers: ['CPUExecutionProvider'], with options: {'CPUExecutionProvider': {}}\n",
      "find model: /Users/jennifertran/.insightface/models/buffalo_l/w600k_r50.onnx recognition ['None', 3, 112, 112] 127.5 127.5\n",
      "set det-size: (640, 640)\n",
      "0.6483408\n"
     ]
    }
   ],
   "source": [
    "import cv2\n",
    "import numpy as np\n",
    "from insightface.app import FaceAnalysis\n",
    "\n",
    "app = FaceAnalysis(name=\"buffalo_l\", allowed_modules=[\"detection\", \"recognition\"])\n",
    "app.prepare(ctx_id=0, det_size=(640, 640))\n",
    "\n",
    "img0 = cv2.imread('static/img/btien.jpg')\n",
    "img1 = cv2.imread('static/img/btienne.jpg')\n",
    "img2 = cv2.imread('static/img/btientho.jpg')\n",
    "img3 = cv2.imread('static/img/btiendeokinh.jpg')\n",
    "img4 = cv2.imread('static/img/btienprincess.jpg')\n",
    "img5 = cv2.imread('static/img/miyen.jpg')\n",
    "img6 = cv2.imread('static/img/btienonha.jpg')\n",
    "img7 = cv2.imread('static/img/moichup.jpg')\n",
    "\n",
    "def get_embed(img):\n",
    "    faces = app.get(img)\n",
    "    if img is None:\n",
    "        print(\"Could not open or find the image\")\n",
    "    for face in faces:\n",
    "        return face['embedding']\n",
    "\n",
    "btien = get_embed(img0)\n",
    "btienne = get_embed(img1)\n",
    "btientho = get_embed(img2)\n",
    "btiendeokinh = get_embed(img3)\n",
    "btienprincess = get_embed(img4)\n",
    "miyen = get_embed(img5)\n",
    "btienonha = get_embed(img6)\n",
    "moichup = get_embed(img7)\n",
    "\n",
    "def identical(i1,i2):\n",
    "    i1 = i1.flatten()\n",
    "    i2 = i2.flatten()\n",
    "    cosine = (i1 @ i2) / (np.linalg.norm(i1) * np.linalg.norm(i2))\n",
    "    print(cosine)\n",
    "    # if cosine >= 0.65:\n",
    "    #     print('BTien')\n",
    "    # else:\n",
    "    #     print('Not BTien')\n",
    "\n",
    "identical(btientho, btienne)"
   ]
  },
  {
   "cell_type": "markdown",
   "metadata": {},
   "source": [
    "### Todo: lay embed btienne so sanh voi cai frame vong lap. Giong nhau thi ve ten Bao Tien len tren toa do bbox"
   ]
  },
  {
   "cell_type": "code",
   "execution_count": null,
   "metadata": {},
   "outputs": [],
   "source": [
    "import cv2\n",
    "import numpy as np\n",
    "from insightface.app import FaceAnalysis\n",
    "\n",
    "window_name = 'Image'\n",
    "app = FaceAnalysis(name=\"buffalo_sc\", providers=['CPUExecutionProvider'])\n",
    "app.prepare(ctx_id=0, det_size=(640, 640))\n",
    "\n",
    "\n",
    "def get_embed(img):\n",
    "    faces = app.get(img)\n",
    "    if img is None:\n",
    "        print(\"Could not open or find the image\")\n",
    "    for face in faces:\n",
    "        return face['embedding'].astype(int)\n",
    "    \n",
    "def identical(i1,i2):\n",
    "    i1 = i1.flatten()\n",
    "    i2 = i2.flatten().T\n",
    "    cosine = (i1 @ i2) / (np.linalg.norm(i1) * np.linalg.norm(i2))\n",
    "    if cosine > 0.3:\n",
    "        print('BTien')\n",
    "    else:\n",
    "        print('Not BTien')\n",
    "\n",
    "\n",
    "cap = cv2.VideoCapture(0) # mở webcam\n",
    "\n",
    "img1 = cv2.imread('static/img/btienne.jpg')\n",
    "btienne = get_embed(img1)\n",
    "# Check if the webcam is opened correctly\n",
    "if not cap.isOpened():\n",
    "    raise IOError(\"Cannot open webcam\")\n",
    "\n",
    "while True:\n",
    "    ret, img = cap.read() # ret: take frame successfully or not\n",
    "    if not ret:\n",
    "        break\n",
    "\n",
    "    faces = app.get(img)\n",
    "    for face in faces:\n",
    "        bbox = face['bbox'].astype(int)\n",
    "        start_point = bbox[:2]\n",
    "        end_point = bbox[2:]\n",
    "        thickness = 2\n",
    "        img = cv2.rectangle(img, start_point, end_point, (255, 0, 0) , thickness)\n",
    "\n",
    "        keypoints = face['kps'].astype(int)\n",
    "        for point in keypoints:\n",
    "            img = cv2.circle(img, point, 3, (0, 0, 255) , thickness)\n",
    "\n",
    "    on_vid = get_embed(img)\n",
    "    identical(btienne, on_vid)\n",
    "    \n",
    "    cv2.imshow(window_name, img) \n",
    "\n",
    "    c = cv2.waitKey(1) # wait 1ms user press button\n",
    "    if c == 27: # ESC button\n",
    "        break\n",
    "\n",
    "\n",
    "cap.release()\n",
    "cv2.waitKey(0)\n",
    "cv2.destroyAllWindows()\n",
    "\n",
    "# bbox là khung bao quanh đầu\n",
    "# kps là bao gồm toạ độ mắt mũi miệng\n",
    "# det_score là phần trăm có gương mặt\n",
    "# embeddings là array nhận diện gương mặt"
   ]
  }
 ],
 "metadata": {
  "kernelspec": {
   "display_name": "reconnect",
   "language": "python",
   "name": "python3"
  },
  "language_info": {
   "codemirror_mode": {
    "name": "ipython",
    "version": 3
   },
   "file_extension": ".py",
   "mimetype": "text/x-python",
   "name": "python",
   "nbconvert_exporter": "python",
   "pygments_lexer": "ipython3",
   "version": "3.10.13"
  }
 },
 "nbformat": 4,
 "nbformat_minor": 2
}
