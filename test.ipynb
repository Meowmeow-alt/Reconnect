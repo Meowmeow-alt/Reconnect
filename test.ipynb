{
 "cells": [
  {
   "cell_type": "markdown",
   "metadata": {},
   "source": [
    "### Todo: lay embedding hai tam hinh, tinh cosine similatiry giua embedding hai cai do"
   ]
  },
  {
   "cell_type": "code",
   "execution_count": 37,
   "metadata": {},
   "outputs": [
    {
     "name": "stderr",
     "output_type": "stream",
     "text": [
      "/opt/homebrew/Caskroom/miniforge/base/envs/reconnect/lib/python3.10/site-packages/onnxruntime/capi/onnxruntime_inference_collection.py:69: UserWarning: Specified provider 'CUDAExecutionProvider' is not in available provider names.Available providers: 'AzureExecutionProvider, CPUExecutionProvider'\n",
      "  warnings.warn(\n"
     ]
    },
    {
     "name": "stdout",
     "output_type": "stream",
     "text": [
      "Applied providers: ['CPUExecutionProvider'], with options: {'CPUExecutionProvider': {}}\n",
      "model ignore: /Users/jennifertran/.insightface/models/buffalo_l/1k3d68.onnx landmark_3d_68\n",
      "Applied providers: ['CPUExecutionProvider'], with options: {'CPUExecutionProvider': {}}\n",
      "model ignore: /Users/jennifertran/.insightface/models/buffalo_l/2d106det.onnx landmark_2d_106\n",
      "Applied providers: ['CPUExecutionProvider'], with options: {'CPUExecutionProvider': {}}\n",
      "find model: /Users/jennifertran/.insightface/models/buffalo_l/det_10g.onnx detection [1, 3, '?', '?'] 127.5 128.0\n",
      "Applied providers: ['CPUExecutionProvider'], with options: {'CPUExecutionProvider': {}}\n",
      "model ignore: /Users/jennifertran/.insightface/models/buffalo_l/genderage.onnx genderage\n",
      "Applied providers: ['CPUExecutionProvider'], with options: {'CPUExecutionProvider': {}}\n",
      "find model: /Users/jennifertran/.insightface/models/buffalo_l/w600k_r50.onnx recognition ['None', 3, 112, 112] 127.5 127.5\n",
      "set det-size: (640, 640)\n",
      "[{'bbox': array([385.67368, 457.6232 , 774.92944, 965.8714 ], dtype=float32), 'kps': array([[486.65848, 653.68884],\n",
      "       [674.94   , 648.05   ],\n",
      "       [582.6309 , 784.6436 ],\n",
      "       [509.18   , 842.11505],\n",
      "       [660.8308 , 837.4133 ]], dtype=float32), 'det_score': 0.84433293, 'embedding': array([-7.09232330e-01, -2.70846486e-01, -1.09567809e+00, -1.11132205e+00,\n",
      "       -2.50148702e+00,  6.26935512e-02,  1.11909342e+00,  2.38865703e-01,\n",
      "        1.58300841e+00,  1.15041837e-01,  3.28324854e-01, -9.28617567e-02,\n",
      "       -1.59442866e+00,  5.61047256e-01, -2.13288617e+00,  1.22267216e-01,\n",
      "       -2.55323440e-01, -7.07886457e-01,  5.17120004e-01, -1.48013651e-01,\n",
      "       -4.53210995e-02, -6.02230489e-01,  3.52642357e-01,  2.66738027e-01,\n",
      "       -1.62120774e-01,  2.91423798e-01,  1.63972080e-01, -2.14162678e-01,\n",
      "        6.39441133e-01, -1.47602543e-01,  7.76026607e-01, -2.03284711e-01,\n",
      "        1.05398071e+00,  8.68602335e-01, -4.72258091e-01,  7.53923804e-02,\n",
      "        7.25240946e-01,  1.43438339e-01,  1.34643984e+00,  2.15275693e+00,\n",
      "       -1.71644479e-01,  3.14323723e-01,  3.14225823e-01, -1.95441782e+00,\n",
      "        7.12439775e-01, -1.34700668e+00,  2.07953751e-02,  1.92780361e-01,\n",
      "       -1.25163689e-01,  6.67802632e-01,  1.08760798e+00,  4.60753351e-01,\n",
      "       -2.19673157e+00,  1.31521595e+00,  1.08829296e+00,  3.52658510e-01,\n",
      "        6.82291269e-01,  1.50541812e-01,  2.55867541e-01, -1.04124665e+00,\n",
      "        6.74852312e-01, -1.68046474e+00,  1.24701703e+00, -1.46438271e-01,\n",
      "       -1.90275896e+00,  1.46763250e-01, -8.64984035e-01,  4.92844671e-01,\n",
      "       -8.93352270e-01,  3.36219743e-02,  4.10256565e-01,  7.50195831e-02,\n",
      "        9.34076965e-01, -1.12867308e+00,  1.13422059e-01,  7.33428419e-01,\n",
      "       -6.83192432e-01,  1.41147411e+00, -2.84876168e-01,  1.91156137e+00,\n",
      "       -7.61553526e-01, -3.95857126e-01,  2.71206796e-01, -1.04963028e+00,\n",
      "       -1.42498684e+00, -1.50560272e+00, -3.56291175e-01,  1.25138462e+00,\n",
      "       -1.39142287e+00,  1.14893508e+00, -6.69461250e-01,  1.04383990e-01,\n",
      "        6.91086650e-01,  1.09128070e+00, -4.05793041e-02,  3.31337720e-01,\n",
      "       -1.70531487e+00, -1.67097345e-01,  5.00914693e-01, -1.40969589e-01,\n",
      "        1.47539389e+00, -1.56638408e+00, -1.50641406e+00, -9.72779334e-01,\n",
      "        7.84605384e-01,  1.08538675e+00, -1.92888618e-01, -6.47222638e-01,\n",
      "        6.47224009e-01, -4.05681431e-01,  2.89292634e-01,  4.56655562e-01,\n",
      "       -8.23271275e-01, -4.67219353e-01,  2.05226159e+00,  1.41292381e+00,\n",
      "       -3.42407912e-01,  1.97943509e+00, -4.42759782e-01,  3.22705150e-01,\n",
      "       -1.75120521e+00, -2.86095291e-01, -1.04933596e+00,  5.78094304e-01,\n",
      "       -3.92265290e-01,  4.26063947e-02,  3.38053912e-01, -3.26197147e-02,\n",
      "        5.81512213e-01,  1.18567085e+00,  7.29830563e-02,  4.66603518e-01,\n",
      "        5.45907021e-01,  1.87606573e+00, -9.02190506e-02,  3.62563640e-01,\n",
      "       -8.89398277e-01,  1.69146597e+00, -1.22382127e-01, -1.02303408e-01,\n",
      "       -7.32559979e-01, -2.90232837e-01, -6.05830908e-01, -6.97395742e-01,\n",
      "       -7.05037177e-01, -7.82844573e-02,  6.78483665e-01, -4.72080447e-02,\n",
      "       -2.57249832e-01, -7.49137640e-01,  3.29332739e-01, -2.20711291e-01,\n",
      "       -9.65317726e-01, -2.05905294e+00,  4.69931722e-01,  1.12940145e+00,\n",
      "        7.36839056e-01, -6.40439510e-01,  5.36231756e-01, -9.22464728e-02,\n",
      "       -2.56244868e-01, -1.02962196e+00,  9.85459015e-02, -3.72883648e-01,\n",
      "        1.10356855e+00, -1.32773066e+00,  6.78735018e-01,  3.86526585e-01,\n",
      "       -3.43438715e-01, -1.62250493e-02,  1.10505557e+00,  7.62481511e-01,\n",
      "        3.50420177e-01,  7.62082279e-01, -6.01723731e-01,  2.09076309e+00,\n",
      "       -2.84466696e+00,  1.00425839e+00,  2.94029087e-01,  9.09281492e-01,\n",
      "       -1.14254189e+00, -7.23853111e-01,  3.82055849e-01, -1.68979138e-01,\n",
      "       -2.97249079e-01, -1.92059278e-02,  2.27943897e-01,  1.87878537e+00,\n",
      "       -9.68716383e-01, -3.23842227e-01,  1.02808571e+00,  2.66195059e-01,\n",
      "       -1.43603846e-01, -6.29209518e-01, -7.40623057e-01, -3.85347843e-01,\n",
      "        1.95369232e+00,  4.83208507e-01, -9.40722525e-02,  3.01802754e-01,\n",
      "       -7.81596005e-01, -8.63272786e-01,  2.13390425e-01,  2.78597355e-01,\n",
      "        7.27253795e-01,  2.52868980e-01, -9.91188705e-01,  1.32694197e+00,\n",
      "        1.39790618e+00, -8.22707772e-01, -9.44557428e-01,  1.10053825e+00,\n",
      "        1.25443053e+00,  3.24813664e-01,  4.52144891e-01, -7.39649057e-01,\n",
      "       -5.24292827e-01, -2.54936337e-01,  1.60113192e+00,  2.41101995e-01,\n",
      "       -2.07704711e+00,  1.41264379e+00, -5.43060422e-01,  6.49152160e-01,\n",
      "        3.33055198e-01,  1.12319398e+00,  6.08942211e-01,  1.87933594e-01,\n",
      "       -6.08296275e-01,  6.84724092e-01, -6.98373988e-02, -2.58627623e-01,\n",
      "        3.95858496e-01, -6.32430688e-02,  1.82897687e-01, -1.34143806e+00,\n",
      "       -3.84613693e-01,  6.77012205e-01, -3.69806290e-01, -9.02229071e-01,\n",
      "       -4.16560024e-01, -1.66987014e+00, -3.00784707e-02,  2.59464234e-02,\n",
      "       -1.68819022e+00, -2.80876100e-01,  1.38897622e+00, -1.02399182e+00,\n",
      "        1.99262887e-01, -7.86242038e-02,  3.32736433e-01, -2.46868327e-01,\n",
      "        3.19830686e-01, -5.59608698e-01, -1.06278205e+00, -1.15082586e+00,\n",
      "        8.70969594e-01, -1.24486291e+00,  9.20839071e-01,  1.50757045e-01,\n",
      "       -1.07333446e+00,  1.33050764e+00,  1.52813184e+00,  6.95018232e-01,\n",
      "       -5.30776024e-01,  6.30427718e-01, -6.24292850e-01,  5.66764832e-01,\n",
      "       -2.28272974e-01, -8.08794856e-01,  1.60015988e+00, -5.48570633e-01,\n",
      "        3.72207463e-01,  1.64093113e+00, -8.25391173e-01,  4.25939649e-01,\n",
      "        7.54830778e-01, -1.67820382e+00, -2.34536743e+00, -8.68344456e-02,\n",
      "        1.19824684e+00, -1.43218249e-01,  1.58913207e+00, -2.69729233e+00,\n",
      "       -1.43763328e+00,  1.06803691e+00,  6.37935519e-01,  3.84199947e-01,\n",
      "        3.37499440e-01, -6.26877308e-01, -2.94007957e-01,  2.44711161e-01,\n",
      "        6.98660433e-01, -1.94448626e+00, -7.38844812e-01, -5.45398951e-01,\n",
      "       -1.11467540e+00,  1.08129770e-01,  4.49174285e-01, -1.78633428e+00,\n",
      "        6.67464733e-01,  1.06733406e+00,  4.12752539e-01, -1.21107268e+00,\n",
      "        3.77484173e-01,  1.20542037e+00, -1.00179374e+00, -1.18937385e+00,\n",
      "       -4.62536693e-01,  1.48245990e-01,  1.63132143e+00, -3.02637547e-01,\n",
      "        8.44969988e-01,  5.99223852e-01,  1.47566840e-01, -7.68899143e-01,\n",
      "        1.28160715e-02, -1.91429064e-01, -1.05256438e+00,  1.34511817e+00,\n",
      "       -5.55514216e-01, -5.00513613e-01, -1.01376975e+00,  1.34707475e+00,\n",
      "       -1.12196934e+00, -1.50353789e+00, -3.58597875e-01,  1.34293333e-01,\n",
      "        4.61735964e-01, -1.39719725e+00, -6.24376163e-02, -1.12128448e+00,\n",
      "        2.95206279e-01, -1.79940534e+00,  5.31019092e-01,  2.77468562e-03,\n",
      "        1.55928028e+00,  5.32272637e-01,  1.98459363e+00,  3.93332064e-01,\n",
      "        4.84148443e-01, -4.54284668e-01,  1.38289225e+00,  4.55937475e-01,\n",
      "        8.09965909e-01,  7.68238977e-02, -2.46307328e-02, -5.07996261e-01,\n",
      "       -8.92329633e-01, -2.76483834e-01, -7.16315567e-01, -5.61923862e-01,\n",
      "       -2.08739519e+00,  1.74937391e+00, -2.49742061e-01,  5.12817621e-01,\n",
      "        2.22714806e+00,  1.03599846e+00, -4.36746776e-01,  1.09692347e+00,\n",
      "        4.53975588e-01,  6.17212057e-01,  2.06667602e-01,  3.17001939e-01,\n",
      "        1.64237022e+00,  1.13108182e+00, -3.21744114e-01, -8.14656466e-02,\n",
      "       -6.05270624e-01,  1.04916260e-01, -7.07032382e-01, -1.91903841e+00,\n",
      "        1.38313305e+00,  3.43389586e-02,  1.05387676e+00, -4.83882308e-01,\n",
      "       -4.80919391e-01,  3.03683728e-01,  3.48836184e-02,  1.72575366e+00,\n",
      "        4.37873721e-01, -3.23014051e-01,  3.10319662e-01, -2.91976571e-01,\n",
      "        1.86594951e+00,  1.01458490e+00, -3.99001002e-01, -6.88229144e-01,\n",
      "        5.34230135e-02,  1.60544825e+00, -1.42258859e+00,  5.46437681e-01,\n",
      "        1.06577861e+00, -7.32205868e-01,  7.73352683e-01, -3.74398828e-01,\n",
      "       -3.55009794e-01, -2.25870371e-01,  3.15105617e-01,  1.05085707e+00,\n",
      "        1.85152423e+00,  8.27310622e-01, -9.38331962e-01, -1.58566308e+00,\n",
      "       -1.02542304e-01,  2.58945704e-01,  7.64462113e-01, -3.91200721e-01,\n",
      "       -3.89985174e-01, -6.55638814e-01, -2.12528348e+00, -3.05926591e-01,\n",
      "        1.17034101e+00, -6.14634454e-01, -1.02602959e-01,  1.81889653e+00,\n",
      "       -5.46765387e-01,  9.04416263e-01,  3.57160896e-01,  2.86913991e-01,\n",
      "        7.69465208e-01,  9.32059526e-01,  1.13386738e+00,  1.12204909e+00,\n",
      "       -9.47645783e-01, -7.85574317e-04,  3.59473288e-01, -8.44239771e-01,\n",
      "       -4.61593151e-01, -2.16366708e-01, -1.25364077e+00,  1.62875485e+00,\n",
      "        1.79956889e+00,  1.36971200e+00,  1.12882793e-01,  3.07243504e-02,\n",
      "        1.90184027e-01,  1.07206494e-01, -1.49788904e+00, -9.90496516e-01,\n",
      "       -1.09288692e-02,  1.20488212e-01,  8.23752224e-01, -3.58193815e-01,\n",
      "        1.15610290e+00, -1.12757337e+00, -3.48844260e-01,  8.37610483e-01,\n",
      "        7.31745481e-01,  2.24214959e+00,  2.08865714e+00, -2.15060636e-02,\n",
      "       -1.13957417e+00, -7.03579903e-01, -6.71186984e-01,  1.24651754e+00,\n",
      "       -6.94352984e-01,  1.56946504e+00, -5.30322671e-01, -6.14851713e-01,\n",
      "        1.21852517e+00,  4.19138074e-02,  2.11348161e-01, -1.34729838e+00,\n",
      "       -1.37937546e+00,  3.97720993e-01,  1.33211899e+00, -1.20579183e+00,\n",
      "       -6.76386178e-01, -8.02586794e-01,  1.49517584e+00, -2.03964257e+00,\n",
      "       -6.39251947e-01, -9.70875323e-01, -1.78096071e-01, -2.24166799e+00,\n",
      "       -1.32766497e+00, -2.13263184e-01, -3.25950503e-01, -1.70985270e+00,\n",
      "       -8.57272267e-01, -1.57529846e-01, -5.76937199e-01, -3.41511369e-01,\n",
      "        1.25366771e+00, -7.42006660e-01, -4.18359399e-01,  8.67243528e-01,\n",
      "       -3.26506823e-01,  3.78945053e-01,  2.67334759e-01,  1.86026156e-01,\n",
      "        4.36984301e-02, -5.61485767e-01, -1.16187382e+00, -1.38913131e+00,\n",
      "        3.76893401e-01, -4.79401648e-01,  2.62105137e-01,  3.44039500e-02,\n",
      "        2.27092862e+00,  8.27223361e-02, -2.04058766e+00,  4.64218378e-01,\n",
      "       -7.44742990e-01, -5.64944446e-01, -1.31182098e+00,  6.94804013e-01,\n",
      "       -1.65413380e-01, -1.35044217e+00, -8.09833765e-01,  8.45211446e-01],\n",
      "      dtype=float32)}]\n",
      "[{'bbox': array([128.43356,  65.13678, 222.32819, 205.58801], dtype=float32), 'kps': array([[151.06468 , 121.08964 ],\n",
      "       [197.98796 , 122.176346],\n",
      "       [172.74263 , 150.03874 ],\n",
      "       [154.17131 , 172.75749 ],\n",
      "       [191.78616 , 173.58223 ]], dtype=float32), 'det_score': 0.87147665, 'embedding': array([-0.62323165, -0.80085886,  0.08485216,  0.36422825, -1.4845457 ,\n",
      "       -1.3462504 ,  0.49780193,  0.56017786,  0.47932318,  0.33649427,\n",
      "        0.05456527,  0.4988236 , -0.9597937 , -0.35017282, -1.5477589 ,\n",
      "       -0.27008635,  0.4007194 , -0.21395004,  0.6613697 ,  0.7981467 ,\n",
      "        0.17621402,  0.16310798, -0.7109931 ,  1.0890659 , -0.44997782,\n",
      "        0.06232172,  0.24246103, -1.9728533 ,  0.7856428 , -0.37971354,\n",
      "       -0.7584112 ,  1.7760531 ,  0.90070724,  0.23155089, -0.9151924 ,\n",
      "        0.01114872,  0.9733798 , -0.76927006,  1.1956766 ,  2.1068573 ,\n",
      "       -0.7685143 ,  0.31670442, -0.47179198, -0.52186984,  1.8410434 ,\n",
      "       -1.3675947 , -1.1013556 ,  0.13298579, -0.27817553,  0.8686717 ,\n",
      "        0.33501083, -0.6962041 , -1.0692989 ,  0.43886578,  2.3103657 ,\n",
      "       -0.2352905 ,  1.0150269 ,  0.04823401, -0.45638546, -1.7795618 ,\n",
      "        0.6893021 , -2.3648791 ,  1.5228453 ,  0.60914236, -0.34734678,\n",
      "        0.42290822, -1.2029867 , -0.95871866, -1.2882638 , -0.7810036 ,\n",
      "        1.3086225 ,  0.53557265, -0.4478534 , -1.289404  ,  0.597468  ,\n",
      "       -0.8071044 ,  1.7194855 ,  1.1023221 ,  0.11080112,  1.7586101 ,\n",
      "       -0.98748785, -0.7940313 ,  0.94038904, -1.7423903 , -0.9110781 ,\n",
      "       -0.26736835,  0.1489109 ,  2.6012914 , -1.8775499 ,  0.03681763,\n",
      "       -0.6630569 ,  0.281123  ,  0.6495596 , -0.06155001,  0.4970547 ,\n",
      "        0.6264887 , -0.98395616, -0.3726263 , -1.0585569 , -1.0896063 ,\n",
      "        0.90417945, -0.71201515, -0.6103742 ,  0.59144175, -0.57489836,\n",
      "       -0.26314044,  0.90238416, -0.9069494 ,  0.15908098, -0.31025106,\n",
      "        0.01949195,  0.4950736 , -0.45291856, -1.1901143 ,  0.97018707,\n",
      "        0.76269746, -0.03780165,  0.7160707 , -0.6410125 , -1.0604975 ,\n",
      "       -0.34645253,  0.5958321 , -1.2186452 ,  1.1274172 , -0.40431306,\n",
      "        0.36266777, -1.0266273 , -0.5326892 ,  1.293373  ,  2.6660366 ,\n",
      "       -0.4661186 ,  0.31459224,  0.39905417,  1.2705486 , -1.2089047 ,\n",
      "       -0.03185683, -1.0262046 ,  1.2697787 , -0.1950708 ,  0.07911517,\n",
      "       -0.1670489 , -0.75020456,  0.0490356 , -0.3132035 ,  0.01511314,\n",
      "       -0.4950214 ,  0.9011276 , -0.6489333 , -0.23718996, -0.68049264,\n",
      "       -0.982013  ,  0.0051754 , -1.3806435 , -1.1138663 , -0.51614386,\n",
      "        0.2977503 ,  0.69448525,  0.13098553, -0.32795078,  0.97768515,\n",
      "       -0.9620353 , -0.08188948,  0.9635468 , -0.6024696 ,  0.8352897 ,\n",
      "       -1.2414684 ,  1.2726523 ,  0.15194221, -0.17491567, -0.8388699 ,\n",
      "        1.1482927 ,  0.5819309 ,  0.00399201,  0.46586698, -0.89422804,\n",
      "        0.91081595, -2.337464  ,  0.07904484,  1.1597219 ,  0.7646316 ,\n",
      "       -0.09197824, -0.7977984 ,  0.40740663, -0.6021352 ,  0.17304538,\n",
      "        1.2902606 ,  0.29278085,  1.5196594 , -0.4445666 ,  0.16194972,\n",
      "        1.4830799 ,  0.20148352, -0.17916568, -0.15419328, -0.59198475,\n",
      "       -1.1928841 ,  1.9719858 ,  1.5557255 ,  0.06683823,  0.60040486,\n",
      "       -0.31366065, -0.9623178 , -0.42368716,  0.12886885,  0.54500985,\n",
      "        0.46427006, -0.49376088,  0.9900219 ,  0.10050394, -0.00815235,\n",
      "        0.7087156 ,  0.49189863, -0.3071377 , -0.7435279 ,  0.8238094 ,\n",
      "       -0.6318948 ,  0.5235933 , -1.3348991 ,  1.376806  ,  0.78809583,\n",
      "       -1.4894111 ,  0.70517856, -0.98795664,  0.7035644 , -0.41239363,\n",
      "        1.2042117 ,  1.5631335 , -0.19934395, -1.0185485 ,  0.41929036,\n",
      "        0.44219846, -0.04965809,  0.45200485, -0.32667184,  0.09519268,\n",
      "        0.27068886, -1.1565508 , -0.31457233, -1.043804  , -1.0030316 ,\n",
      "       -0.02815114, -1.7450508 , -0.2325999 ,  0.47157758, -1.9551268 ,\n",
      "       -0.15673605,  0.71661234, -1.2486458 ,  0.27411324,  0.88543713,\n",
      "       -0.5265031 ,  1.374992  ,  0.01474577, -0.14085582, -0.8157503 ,\n",
      "       -0.9850259 , -0.10986294, -1.4460158 ,  0.7371285 , -0.79899323,\n",
      "       -0.30436692,  0.8031147 ,  0.76099306,  0.37414068, -0.00692374,\n",
      "        2.4365072 , -0.39042363,  0.63941133,  0.25891656, -0.6054315 ,\n",
      "        1.4214482 ,  0.22544153,  0.0840532 ,  0.35000628, -0.28288415,\n",
      "        0.76974475,  0.15268686, -1.3815677 , -0.5070378 , -0.8944791 ,\n",
      "       -0.06543887, -0.7979024 ,  1.5066241 , -2.2335398 , -1.1163881 ,\n",
      "        0.7041025 ,  0.04168948,  0.05239612,  1.1104599 ,  0.10778265,\n",
      "        0.8042217 ,  0.8132992 , -0.68622535, -1.9927843 , -1.3687799 ,\n",
      "        0.1362111 , -1.7965176 ,  0.6377571 , -0.3791902 , -1.6943724 ,\n",
      "        0.9800073 ,  1.8984958 , -0.46780175,  0.05886967,  0.71021247,\n",
      "        0.3650283 , -0.37515926, -0.6156575 , -0.6960586 ,  0.46459737,\n",
      "        0.97195673, -0.15490784,  1.0628381 ,  0.18282226, -0.43110344,\n",
      "        0.40158984, -0.02995616,  0.78114474, -1.2561227 , -1.3244227 ,\n",
      "       -0.34977677, -0.60273755, -0.58930224,  0.6586751 , -1.8482089 ,\n",
      "       -0.7857554 , -0.3201451 , -0.47524065,  0.04694709, -0.44018874,\n",
      "       -0.34243348, -1.5554934 ,  1.357174  , -1.3871928 ,  0.9588728 ,\n",
      "        0.89019   ,  1.5259892 , -0.03975336,  0.36243767,  1.1692953 ,\n",
      "        1.6719172 ,  0.5923331 ,  1.1373821 , -0.8226148 ,  1.7862965 ,\n",
      "       -0.20607296, -1.1308277 , -0.36681902,  0.75951284, -0.4687549 ,\n",
      "        0.1488386 ,  0.32670036, -1.3356973 ,  1.1206968 , -0.31996423,\n",
      "        1.364578  ,  1.7377611 , -0.1467306 ,  0.46185237,  1.2020174 ,\n",
      "        0.34337503,  0.17894861,  0.49127102,  1.0434783 ,  1.1182884 ,\n",
      "        0.46107835, -1.0546012 ,  1.1561182 , -0.34315914, -0.29761672,\n",
      "       -1.5157715 , -1.7986054 ,  0.27471942,  0.6628781 ,  0.56111526,\n",
      "        0.02877856, -0.9366558 , -0.26523647,  0.03888132,  0.9606464 ,\n",
      "        0.3241322 ,  0.05856863,  0.57803833,  0.9170116 ,  2.1039968 ,\n",
      "       -0.21350603, -0.95889115,  0.35778314, -0.14926206,  0.730714  ,\n",
      "        0.49008814, -0.2888102 ,  0.77819157, -0.5987691 ,  0.88302475,\n",
      "       -0.77731925, -0.7476947 ,  0.8281858 , -0.2790807 ,  0.6980111 ,\n",
      "        0.58397394,  0.11746512, -0.9336619 , -1.3322016 , -0.32889143,\n",
      "       -0.23609501,  0.18890151, -0.33065194,  0.23836404, -0.34982046,\n",
      "       -1.29431   , -1.0477349 ,  1.7195117 , -0.09819616,  0.49602824,\n",
      "        0.46247733, -0.35881734,  1.4164327 , -0.04187079,  0.71780753,\n",
      "        0.7796568 ,  0.5750538 , -0.37291408, -0.40037933, -1.270423  ,\n",
      "       -0.57547736,  0.21671046, -1.2292733 ,  0.1752803 , -0.26937845,\n",
      "       -1.940098  ,  1.0773365 ,  1.2047598 ,  1.5109882 ,  1.7905273 ,\n",
      "        0.23899716,  1.1411585 , -0.5551661 , -0.8806208 , -0.414746  ,\n",
      "        0.7156795 ,  0.39089108,  0.49314484,  0.6738903 ,  1.1875572 ,\n",
      "       -1.3751185 ,  0.17734525,  0.32038355, -1.1713749 ,  0.9163238 ,\n",
      "        1.946053  ,  0.27321202, -0.6105839 , -0.14490756, -0.9286671 ,\n",
      "        1.1513771 ,  0.24155694, -1.5056034 ,  0.45897466, -0.42162013,\n",
      "        1.047683  ,  0.29739666,  0.20832552, -1.428619  , -0.00451671,\n",
      "        0.46174395,  0.64090943, -0.7086136 ,  0.24807745, -0.6031933 ,\n",
      "        0.17199469, -1.5395412 ,  0.06582382, -0.6792684 , -0.8621293 ,\n",
      "       -2.0363545 , -0.36593598,  1.0951456 ,  1.5702611 ,  0.520249  ,\n",
      "        0.88660514,  0.7286833 , -0.40188056, -0.8255932 ,  0.7188479 ,\n",
      "       -0.17106223, -0.18085104, -0.51012236, -0.22544596, -0.65916127,\n",
      "        0.71018285,  1.5393164 ,  0.05808477, -1.0282557 , -1.2112057 ,\n",
      "       -0.27376518, -0.20969075,  0.23276275,  0.34140176, -0.74921393,\n",
      "        2.4585938 ,  0.3110959 , -0.9149917 ,  1.127638  , -1.1144724 ,\n",
      "       -1.3419989 , -0.2521467 ,  0.46845326, -1.361113  , -1.5341201 ,\n",
      "        0.8879118 ,  0.1672337 ], dtype=float32)}]\n"
     ]
    },
    {
     "data": {
      "text/plain": [
       "array([[0.65231824]], dtype=float32)"
      ]
     },
     "execution_count": 37,
     "metadata": {},
     "output_type": "execute_result"
    }
   ],
   "source": [
    "import cv2\n",
    "import numpy as np\n",
    "from insightface.app import FaceAnalysis\n",
    "from sklearn.metrics.pairwise import cosine_similarity\n",
    "\n",
    "app = FaceAnalysis(name=\"buffalo_l\", allowed_modules=[\"detection\", \"recognition\"])\n",
    "app.prepare(ctx_id=0, det_size=(640, 640))\n",
    "\n",
    "img0 = cv2.imread('backend/img/images/b629a8b5-f154-4db2-b6d8-142e3b5843b2_kendall.jpeg')\n",
    "img1 = cv2.imread('backend/img/profile/84543041-0d01-44cb-8195-054043dd105a_kendall-jenner.png')\n",
    "\n",
    "def get_embed(img):\n",
    "    faces = app.get(img)\n",
    "    if img is None:\n",
    "        print(\"Could not open or find the image\")\n",
    "    print(faces)\n",
    "    for face in faces:\n",
    "        return face['embedding']\n",
    "\n",
    "img0 = get_embed(img0).reshape(1,-1)\n",
    "img1 = get_embed(img1).reshape(1,-1)\n",
    "\n",
    "def identical(i1,i2):\n",
    "    i1 = i1.flatten()\n",
    "    i2 = i2.flatten()\n",
    "    cosine = (i1 @ i2) / (np.linalg.norm(i1) * np.linalg.norm(i2))\n",
    "    print(cosine)\n",
    "    if cosine >= 0.65:\n",
    "        print('BTien')\n",
    "    else:\n",
    "        print('Not BTien')\n",
    "\n",
    "cosine_similarity(img0, img1)"
   ]
  },
  {
   "cell_type": "code",
   "execution_count": 43,
   "metadata": {},
   "outputs": [
    {
     "name": "stdout",
     "output_type": "stream",
     "text": [
      "[[0.08730046 0.65231824]\n",
      " [0.67154235 0.08976456]]\n"
     ]
    },
    {
     "data": {
      "text/plain": [
       "array([[0.67154235, 0.08976456],\n",
       "       [0.08730046, 0.65231824]], dtype=float32)"
      ]
     },
     "execution_count": 43,
     "metadata": {},
     "output_type": "execute_result"
    }
   ],
   "source": [
    "from sklearn.metrics.pairwise import cosine_similarity\n",
    "\n",
    "upload_embeds = np.load('backend/uploads.npy') # embed của toàn bộ ảnh upload\n",
    "user_embeds = np.load('backend/users.npy') # embed của toàn bộ ảnh user \n",
    "\n",
    "user_embeds.shape, upload_embeds.shape\n",
    "\n",
    "a = cosine_similarity(upload_embeds, user_embeds)\n",
    "print(a)\n",
    "user_match_pair_ids = np.argmax(a, axis=1)\n",
    "a[user_match_pair_ids]"
   ]
  },
  {
   "cell_type": "code",
   "execution_count": 45,
   "metadata": {},
   "outputs": [
    {
     "data": {
      "text/plain": [
       "([2, 4], [1, 3])"
      ]
     },
     "execution_count": 45,
     "metadata": {},
     "output_type": "execute_result"
    }
   ],
   "source": [
    "import pickle\n",
    "\n",
    "with open('backend/uploads.pkl', 'rb') as f:\n",
    "    pair_mapping_ids = pickle.load(f)\n",
    "with open('backend/users.pkl', 'rb') as f:\n",
    "    user_mapping_ids = pickle.load(f)\n",
    "\n",
    "pair_mapping_ids, user_mapping_ids"
   ]
  },
  {
   "cell_type": "code",
   "execution_count": 59,
   "metadata": {},
   "outputs": [
    {
     "name": "stdout",
     "output_type": "stream",
     "text": [
      "matrix (1, 2)\n",
      "Hellooooooooo user_match_pair_ids [1]\n",
      "Helloooooooo user_match_pair [[0.64284265]]\n",
      "thr_filter [[ True]]\n",
      "Helloooooooo match_score [0.6428426504135132]\n",
      "Helloooooooo pair_ids [2]\n",
      "Helloooooooo user_ids [3]\n",
      "valid_pair_ids [2]\n",
      "valid_user_ids [3]\n",
      "Helloooooooo tuple_valid_pair_ids 2\n",
      "Helloooooooo tuple_valid_user_ids 3\n"
     ]
    }
   ],
   "source": [
    "upload_embeds = np.load('backend/uploads.npy') # embed của toàn bộ ảnh upload\n",
    "user_embeds = np.load('backend/users.npy') # embed của toàn bộ ảnh user \n",
    "\n",
    "pair_indices = [0]\n",
    "user_indices = [0, 1]\n",
    "pair_ids = [2]\n",
    "user_ids = [3]\n",
    "\n",
    "pair_embeds = upload_embeds[pair_indices]\n",
    "valid_user_embeds = user_embeds[user_indices]\n",
    "\n",
    "matrix = cosine_similarity(pair_embeds, valid_user_embeds)\n",
    "print(\"matrix\", matrix.shape)\n",
    "# Được một cái matrix - dòng là pair_embeds còn cột là valid_user_embeds\n",
    "\n",
    "# argmax lấy ra id của user giống với pair nhất, axis = 1\n",
    "user_match_pair_ids = np.argmax(matrix, axis=1)\n",
    "print(\"Hellooooooooo user_match_pair_ids\", user_match_pair_ids)\n",
    "\n",
    "# tìm value của user giống pair nhất\n",
    "user_match_pair = matrix[:,user_match_pair_ids]\n",
    "print(\"Helloooooooo user_match_pair\", user_match_pair)\n",
    "\n",
    "# so sánh với threshold\n",
    "threshold = 0.62\n",
    "thr_filter = user_match_pair > threshold\n",
    "print(\"thr_filter\", thr_filter)\n",
    "\n",
    "# tìm match_score\n",
    "match_score = user_match_pair[thr_filter].tolist()\n",
    "print(\"Helloooooooo match_score\", match_score)\n",
    "\n",
    "\n",
    "# lấy pair_ids hợp lệ và user_ids hợp lệ\n",
    "print(\"Helloooooooo pair_ids\", pair_ids)\n",
    "print(\"Helloooooooo user_ids\", user_ids)\n",
    "\n",
    "\n",
    "valid_pair_ids = np.array(pair_ids)[thr_filter[0]].tolist()\n",
    "valid_user_ids = np.array(user_ids)[thr_filter[0]].tolist()\n",
    "\n",
    "tuple_valid_pair_ids = tuple(valid_pair_ids)\n",
    "tuple_valid_user_ids = tuple(valid_user_ids)\n",
    "\n",
    "print('valid_pair_ids', valid_pair_ids)\n",
    "print('valid_user_ids', valid_user_ids)\n",
    "\n",
    "if len(valid_pair_ids) == 1:\n",
    "    tuple_valid_pair_ids = int(valid_pair_ids[0])\n",
    "if len(valid_user_ids) == 1:\n",
    "    tuple_valid_user_ids = int(valid_user_ids[0])\n",
    "\n",
    "print(\"Helloooooooo tuple_valid_pair_ids\", tuple_valid_pair_ids)\n",
    "print(\"Helloooooooo tuple_valid_user_ids\", tuple_valid_user_ids)\n"
   ]
  },
  {
   "cell_type": "code",
   "execution_count": 63,
   "metadata": {},
   "outputs": [
    {
     "name": "stdout",
     "output_type": "stream",
     "text": [
      "Helloooooooo user_match_pair [[0.65231824 0.09776807]\n",
      " [0.060811   1.0000001 ]]\n"
     ]
    }
   ],
   "source": [
    "user_match_pair_ids = np.array([1, 0])\n",
    "matrix = np.array([[0.09776807, 0.65231824],\n",
    "                   [1.0000001,  0.060811  ]])\n",
    "user_match_pair = matrix[:,user_match_pair_ids]\n",
    "print(\"Helloooooooo user_match_pair\", user_match_pair)"
   ]
  },
  {
   "cell_type": "code",
   "execution_count": 85,
   "metadata": {},
   "outputs": [
    {
     "name": "stdout",
     "output_type": "stream",
     "text": [
      "valid_pair_user_ids [[3 6]\n",
      " [8 4]]\n",
      "Hellooooooooo user_match_pair_ids [1 0]\n",
      "Helloooooooo user_match_pair [0.65231824 1.0000001 ]\n",
      "thr_filter [ True  True]\n",
      "[0.65231824, 1.0000001]\n"
     ]
    },
    {
     "data": {
      "text/plain": [
       "array([6, 4])"
      ]
     },
     "execution_count": 85,
     "metadata": {},
     "output_type": "execute_result"
    }
   ],
   "source": [
    "pair_ids = [3, 8]\n",
    "user_ids = [4, 6]\n",
    "matrix = np.array([[0.09776807, 0.65231824],\n",
    "                   [1.0000001,  0.060811  ]])\n",
    "\n",
    "threshold = 0.62\n",
    "valid_pair_user_ids = []\n",
    "for i in range(len(pair_ids)):\n",
    "    for j in range(len(user_ids)):\n",
    "            if matrix[i][j] >= threshold:\n",
    "                valid_pair_user_ids.append((pair_ids[i], user_ids[j]))\n",
    "valid_pair_user_ids = np.array(valid_pair_user_ids)\n",
    "\n",
    "print(\"valid_pair_user_ids\", valid_pair_user_ids)\n",
    "\n",
    "# tìm value của user giống pair nhất\n",
    "user_match_pair_ids = np.argmax(matrix, axis=1)\n",
    "user_match_pair = matrix[np.arange(matrix.shape[0]), user_match_pair_ids]\n",
    "thr_filter = user_match_pair > threshold\n",
    "\n",
    "print(\"Hellooooooooo user_match_pair_ids\", user_match_pair_ids)\n",
    "print(\"Helloooooooo user_match_pair\", user_match_pair)\n",
    "print(\"thr_filter\", thr_filter)\n",
    "\n",
    "# tìm match_score\n",
    "match_score = user_match_pair[thr_filter].tolist()\n",
    "print(match_score)\n",
    "\n",
    "valid_pair_user_ids[:,1]\n"
   ]
  },
  {
   "cell_type": "markdown",
   "metadata": {},
   "source": [
    "### Todo: lay embed btienne so sanh voi cai frame vong lap. Giong nhau thi ve ten Bao Tien len tren toa do bbox"
   ]
  },
  {
   "cell_type": "code",
   "execution_count": null,
   "metadata": {},
   "outputs": [],
   "source": [
    "import cv2\n",
    "import numpy as np\n",
    "from insightface.app import FaceAnalysis\n",
    "\n",
    "window_name = 'Image'\n",
    "app = FaceAnalysis(name=\"buffalo_sc\", providers=['CPUExecutionProvider'])\n",
    "app.prepare(ctx_id=0, det_size=(640, 640))\n",
    "\n",
    "\n",
    "def get_embed(img):\n",
    "    faces = app.get(img)\n",
    "    if img is None:\n",
    "        print(\"Could not open or find the image\")\n",
    "    for face in faces:\n",
    "        return face['embedding'].astype(int)\n",
    "    \n",
    "def identical(i1,i2):\n",
    "    i1 = i1.flatten()\n",
    "    i2 = i2.flatten().T\n",
    "    cosine = (i1 @ i2) / (np.linalg.norm(i1) * np.linalg.norm(i2))\n",
    "    if cosine > 0.3:\n",
    "        print('BTien')\n",
    "    else:\n",
    "        print('Not BTien')\n",
    "\n",
    "\n",
    "cap = cv2.VideoCapture(0) # mở webcam\n",
    "\n",
    "img1 = cv2.imread('static/img/btienne.jpg')\n",
    "btienne = get_embed(img1)\n",
    "# Check if the webcam is opened correctly\n",
    "if not cap.isOpened():\n",
    "    raise IOError(\"Cannot open webcam\")\n",
    "\n",
    "while True:\n",
    "    ret, img = cap.read() # ret: take frame successfully or not\n",
    "    if not ret:\n",
    "        break\n",
    "\n",
    "    faces = app.get(img)\n",
    "    for face in faces:\n",
    "        bbox = face['bbox'].astype(int)\n",
    "        start_point = bbox[:2]\n",
    "        end_point = bbox[2:]\n",
    "        thickness = 2\n",
    "        img = cv2.rectangle(img, start_point, end_point, (255, 0, 0) , thickness)\n",
    "\n",
    "        keypoints = face['kps'].astype(int)\n",
    "        for point in keypoints:\n",
    "            img = cv2.circle(img, point, 3, (0, 0, 255) , thickness)\n",
    "\n",
    "    on_vid = get_embed(img)\n",
    "    identical(btienne, on_vid)\n",
    "    \n",
    "    cv2.imshow(window_name, img) \n",
    "\n",
    "    c = cv2.waitKey(1) # wait 1ms user press button\n",
    "    if c == 27: # ESC button\n",
    "        break\n",
    "\n",
    "\n",
    "cap.release()\n",
    "cv2.waitKey(0)\n",
    "cv2.destroyAllWindows()\n",
    "\n",
    "# bbox là khung bao quanh đầu\n",
    "# kps là bao gồm toạ độ mắt mũi miệng\n",
    "# det_score là phần trăm có gương mặt\n",
    "# embeddings là array nhận diện gương mặt"
   ]
  },
  {
   "cell_type": "code",
   "execution_count": 13,
   "metadata": {},
   "outputs": [
    {
     "data": {
      "text/plain": [
       "(20,)"
      ]
     },
     "execution_count": 13,
     "metadata": {},
     "output_type": "execute_result"
    }
   ],
   "source": [
    "import numpy as np\n",
    "matrix = np.random.normal(size=(20,10))\n",
    "ids = np.argmax(matrix, axis=1)\n",
    "ids.shape"
   ]
  },
  {
   "cell_type": "code",
   "execution_count": 15,
   "metadata": {},
   "outputs": [
    {
     "ename": "ValueError",
     "evalue": "[1, 5, 7] is not in list",
     "output_type": "error",
     "traceback": [
      "\u001b[0;31m---------------------------------------------------------------------------\u001b[0m",
      "\u001b[0;31mValueError\u001b[0m                                Traceback (most recent call last)",
      "\u001b[1;32m/Users/jennifertran/Desktop/final-project/test.ipynb Cell 6\u001b[0m line \u001b[0;36m4\n\u001b[1;32m      <a href='vscode-notebook-cell:/Users/jennifertran/Desktop/final-project/test.ipynb#W6sZmlsZQ%3D%3D?line=0'>1</a>\u001b[0m pair_ids \u001b[39m=\u001b[39m [\u001b[39m1\u001b[39m,\u001b[39m5\u001b[39m,\u001b[39m7\u001b[39m]\n\u001b[1;32m      <a href='vscode-notebook-cell:/Users/jennifertran/Desktop/final-project/test.ipynb#W6sZmlsZQ%3D%3D?line=1'>2</a>\u001b[0m pair_mapping_ids \u001b[39m=\u001b[39m [\u001b[39m3\u001b[39m, \u001b[39m1\u001b[39m, \u001b[39m6\u001b[39m, \u001b[39m8\u001b[39m, \u001b[39m5\u001b[39m, \u001b[39m7\u001b[39m]\n\u001b[0;32m----> <a href='vscode-notebook-cell:/Users/jennifertran/Desktop/final-project/test.ipynb#W6sZmlsZQ%3D%3D?line=3'>4</a>\u001b[0m indices \u001b[39m=\u001b[39m pair_mapping_ids\u001b[39m.\u001b[39;49mindex(pair_ids)\n\u001b[1;32m      <a href='vscode-notebook-cell:/Users/jennifertran/Desktop/final-project/test.ipynb#W6sZmlsZQ%3D%3D?line=4'>5</a>\u001b[0m matrix[indices]\n",
      "\u001b[0;31mValueError\u001b[0m: [1, 5, 7] is not in list"
     ]
    }
   ],
   "source": [
    "pair_ids = [1,5,7]\n",
    "pair_mapping_ids = [3, 1, 6, 8, 5, 7]\n",
    "\n",
    "indices = [pair_mapping_ids.index(id) for id in pair_ids]\n",
    "matrix[indices]"
   ]
  },
  {
   "cell_type": "code",
   "execution_count": 16,
   "metadata": {},
   "outputs": [
    {
     "data": {
      "text/plain": [
       "(2, 3)"
      ]
     },
     "execution_count": 16,
     "metadata": {},
     "output_type": "execute_result"
    }
   ],
   "source": [
    "a = np.array([2,3])\n",
    "tuple(a)"
   ]
  },
  {
   "cell_type": "code",
   "execution_count": 29,
   "metadata": {},
   "outputs": [
    {
     "name": "stdout",
     "output_type": "stream",
     "text": [
      "100\n"
     ]
    }
   ],
   "source": [
    "a = (5,)\n",
    "if len(a) == 1:\n",
    "    print(100)"
   ]
  },
  {
   "cell_type": "code",
   "execution_count": null,
   "metadata": {},
   "outputs": [],
   "source": []
  }
 ],
 "metadata": {
  "kernelspec": {
   "display_name": "reconnect",
   "language": "python",
   "name": "python3"
  },
  "language_info": {
   "codemirror_mode": {
    "name": "ipython",
    "version": 3
   },
   "file_extension": ".py",
   "mimetype": "text/x-python",
   "name": "python",
   "nbconvert_exporter": "python",
   "pygments_lexer": "ipython3",
   "version": "3.10.13"
  }
 },
 "nbformat": 4,
 "nbformat_minor": 2
}
